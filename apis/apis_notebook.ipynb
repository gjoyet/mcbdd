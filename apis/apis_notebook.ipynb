{
 "cells": [
  {
   "cell_type": "code",
   "execution_count": 1,
   "id": "38a8c123",
   "metadata": {},
   "outputs": [],
   "source": [
    "import pandas as pd\n",
    "from chembl_webresource_client.new_client import new_client"
   ]
  },
  {
   "cell_type": "markdown",
   "id": "a8b26194",
   "metadata": {},
   "source": [
    "### Get data from ChEMBL\n",
    "\n",
    "Filter them directly when requesting them from the server."
   ]
  },
  {
   "cell_type": "code",
   "execution_count": 2,
   "id": "09fd9441",
   "metadata": {},
   "outputs": [
    {
     "data": {
      "text/html": [
       "<div>\n",
       "<style scoped>\n",
       "    .dataframe tbody tr th:only-of-type {\n",
       "        vertical-align: middle;\n",
       "    }\n",
       "\n",
       "    .dataframe tbody tr th {\n",
       "        vertical-align: top;\n",
       "    }\n",
       "\n",
       "    .dataframe thead th {\n",
       "        text-align: right;\n",
       "    }\n",
       "</style>\n",
       "<table border=\"1\" class=\"dataframe\">\n",
       "  <thead>\n",
       "    <tr style=\"text-align: right;\">\n",
       "      <th></th>\n",
       "      <th>applicants</th>\n",
       "      <th>atc_classification</th>\n",
       "      <th>availability_type</th>\n",
       "      <th>biotherapeutic</th>\n",
       "      <th>black_box</th>\n",
       "      <th>black_box_warning</th>\n",
       "      <th>chirality</th>\n",
       "      <th>development_phase</th>\n",
       "      <th>drug_type</th>\n",
       "      <th>first_approval</th>\n",
       "      <th>...</th>\n",
       "      <th>usan_stem</th>\n",
       "      <th>usan_stem_definition</th>\n",
       "      <th>usan_stem_substem</th>\n",
       "      <th>usan_year</th>\n",
       "      <th>withdrawn_class</th>\n",
       "      <th>withdrawn_country</th>\n",
       "      <th>withdrawn_flag</th>\n",
       "      <th>withdrawn_reason</th>\n",
       "      <th>withdrawn_year</th>\n",
       "      <th>atc_code_description</th>\n",
       "    </tr>\n",
       "  </thead>\n",
       "  <tbody>\n",
       "    <tr>\n",
       "      <th>0</th>\n",
       "      <td>[Genentech Inc]</td>\n",
       "      <td>[{'code': 'L01XJ01', 'description': 'ANTINEOPL...</td>\n",
       "      <td>1</td>\n",
       "      <td>None</td>\n",
       "      <td>True</td>\n",
       "      <td>1</td>\n",
       "      <td>2</td>\n",
       "      <td>4</td>\n",
       "      <td>1</td>\n",
       "      <td>2012</td>\n",
       "      <td>...</td>\n",
       "      <td>-degib</td>\n",
       "      <td>hedgehog signaling inhibitors</td>\n",
       "      <td>-degib(-degib)</td>\n",
       "      <td>2009.0</td>\n",
       "      <td>None</td>\n",
       "      <td>None</td>\n",
       "      <td>0</td>\n",
       "      <td>None</td>\n",
       "      <td>None</td>\n",
       "      <td>NaN</td>\n",
       "    </tr>\n",
       "    <tr>\n",
       "      <th>1</th>\n",
       "      <td>[Allergan Sales Llc, Mylan Pharmaceuticals Inc]</td>\n",
       "      <td>[{'code': 'A06AX04', 'description': 'ALIMENTAR...</td>\n",
       "      <td>1</td>\n",
       "      <td>{'biocomponents': [], 'description': 'LINACLOT...</td>\n",
       "      <td>True</td>\n",
       "      <td>1</td>\n",
       "      <td>1</td>\n",
       "      <td>4</td>\n",
       "      <td>5</td>\n",
       "      <td>2012</td>\n",
       "      <td>...</td>\n",
       "      <td>-tide</td>\n",
       "      <td>peptides: gastrointestinal functions; normalis...</td>\n",
       "      <td>-tide(-tide (-clotide))</td>\n",
       "      <td>2005.0</td>\n",
       "      <td>None</td>\n",
       "      <td>None</td>\n",
       "      <td>0</td>\n",
       "      <td>None</td>\n",
       "      <td>None</td>\n",
       "      <td>NaN</td>\n",
       "    </tr>\n",
       "    <tr>\n",
       "      <th>2</th>\n",
       "      <td>None</td>\n",
       "      <td>[{'code': 'J06BB18', 'description': 'ANTIINFEC...</td>\n",
       "      <td>1</td>\n",
       "      <td>{'biocomponents': [], 'description': 'Raxibacu...</td>\n",
       "      <td>False</td>\n",
       "      <td>0</td>\n",
       "      <td>1</td>\n",
       "      <td>4</td>\n",
       "      <td>6</td>\n",
       "      <td>2012</td>\n",
       "      <td>...</td>\n",
       "      <td>-mab</td>\n",
       "      <td>monoclonal antibodies: fully human, cardiovasc...</td>\n",
       "      <td>-mab(-mab (-cumab))</td>\n",
       "      <td>2004.0</td>\n",
       "      <td>None</td>\n",
       "      <td>None</td>\n",
       "      <td>0</td>\n",
       "      <td>None</td>\n",
       "      <td>None</td>\n",
       "      <td>NaN</td>\n",
       "    </tr>\n",
       "    <tr>\n",
       "      <th>3</th>\n",
       "      <td>[Gilead Sciences Inc]</td>\n",
       "      <td>[{'code': 'J05AJ02', 'description': 'ANTIINFEC...</td>\n",
       "      <td>1</td>\n",
       "      <td>None</td>\n",
       "      <td>False</td>\n",
       "      <td>0</td>\n",
       "      <td>1</td>\n",
       "      <td>4</td>\n",
       "      <td>1</td>\n",
       "      <td>2012</td>\n",
       "      <td>...</td>\n",
       "      <td>-vir</td>\n",
       "      <td>antivirals: integrase inhibitors</td>\n",
       "      <td>-vir(-vir (-tegravir))</td>\n",
       "      <td>2007.0</td>\n",
       "      <td>None</td>\n",
       "      <td>None</td>\n",
       "      <td>0</td>\n",
       "      <td>None</td>\n",
       "      <td>None</td>\n",
       "      <td>NaN</td>\n",
       "    </tr>\n",
       "    <tr>\n",
       "      <th>4</th>\n",
       "      <td>[Avid Radiopharmaceuticals Inc]</td>\n",
       "      <td>[{'code': 'V09AX05', 'description': 'VARIOUS: ...</td>\n",
       "      <td>1</td>\n",
       "      <td>None</td>\n",
       "      <td>False</td>\n",
       "      <td>0</td>\n",
       "      <td>2</td>\n",
       "      <td>4</td>\n",
       "      <td>1</td>\n",
       "      <td>2012</td>\n",
       "      <td>...</td>\n",
       "      <td>None</td>\n",
       "      <td>None</td>\n",
       "      <td>None</td>\n",
       "      <td>2009.0</td>\n",
       "      <td>None</td>\n",
       "      <td>None</td>\n",
       "      <td>0</td>\n",
       "      <td>None</td>\n",
       "      <td>None</td>\n",
       "      <td>NaN</td>\n",
       "    </tr>\n",
       "  </tbody>\n",
       "</table>\n",
       "<p>5 rows × 36 columns</p>\n",
       "</div>"
      ],
      "text/plain": [
       "                                        applicants  \\\n",
       "0                                  [Genentech Inc]   \n",
       "1  [Allergan Sales Llc, Mylan Pharmaceuticals Inc]   \n",
       "2                                             None   \n",
       "3                            [Gilead Sciences Inc]   \n",
       "4                  [Avid Radiopharmaceuticals Inc]   \n",
       "\n",
       "                                  atc_classification  availability_type  \\\n",
       "0  [{'code': 'L01XJ01', 'description': 'ANTINEOPL...                  1   \n",
       "1  [{'code': 'A06AX04', 'description': 'ALIMENTAR...                  1   \n",
       "2  [{'code': 'J06BB18', 'description': 'ANTIINFEC...                  1   \n",
       "3  [{'code': 'J05AJ02', 'description': 'ANTIINFEC...                  1   \n",
       "4  [{'code': 'V09AX05', 'description': 'VARIOUS: ...                  1   \n",
       "\n",
       "                                      biotherapeutic  black_box  \\\n",
       "0                                               None       True   \n",
       "1  {'biocomponents': [], 'description': 'LINACLOT...       True   \n",
       "2  {'biocomponents': [], 'description': 'Raxibacu...      False   \n",
       "3                                               None      False   \n",
       "4                                               None      False   \n",
       "\n",
       "  black_box_warning  chirality  development_phase  drug_type  first_approval  \\\n",
       "0                 1          2                  4          1            2012   \n",
       "1                 1          1                  4          5            2012   \n",
       "2                 0          1                  4          6            2012   \n",
       "3                 0          1                  4          1            2012   \n",
       "4                 0          2                  4          1            2012   \n",
       "\n",
       "   ...  usan_stem                               usan_stem_definition  \\\n",
       "0  ...     -degib                      hedgehog signaling inhibitors   \n",
       "1  ...      -tide  peptides: gastrointestinal functions; normalis...   \n",
       "2  ...       -mab  monoclonal antibodies: fully human, cardiovasc...   \n",
       "3  ...       -vir                   antivirals: integrase inhibitors   \n",
       "4  ...       None                                               None   \n",
       "\n",
       "         usan_stem_substem usan_year withdrawn_class withdrawn_country  \\\n",
       "0           -degib(-degib)    2009.0            None              None   \n",
       "1  -tide(-tide (-clotide))    2005.0            None              None   \n",
       "2      -mab(-mab (-cumab))    2004.0            None              None   \n",
       "3   -vir(-vir (-tegravir))    2007.0            None              None   \n",
       "4                     None    2009.0            None              None   \n",
       "\n",
       "  withdrawn_flag withdrawn_reason  withdrawn_year  atc_code_description  \n",
       "0              0             None            None                   NaN  \n",
       "1              0             None            None                   NaN  \n",
       "2              0             None            None                   NaN  \n",
       "3              0             None            None                   NaN  \n",
       "4              0             None            None                   NaN  \n",
       "\n",
       "[5 rows x 36 columns]"
      ]
     },
     "execution_count": 2,
     "metadata": {},
     "output_type": "execute_result"
    }
   ],
   "source": [
    "dr = new_client.drug.filter(first_approval__isnull=False, first_approval__gte=2012.0).order_by('first_approval')\n",
    "drdf = pd.DataFrame(dr)\n",
    "drdf.head()"
   ]
  },
  {
   "cell_type": "code",
   "execution_count": 3,
   "id": "d42dbe87",
   "metadata": {},
   "outputs": [
    {
     "data": {
      "text/plain": [
       "Index(['applicants', 'atc_classification', 'availability_type',\n",
       "       'biotherapeutic', 'black_box', 'black_box_warning', 'chirality',\n",
       "       'development_phase', 'drug_type', 'first_approval', 'first_in_class',\n",
       "       'helm_notation', 'indication_class', 'molecule_chembl_id',\n",
       "       'molecule_properties', 'molecule_structures', 'molecule_synonyms',\n",
       "       'ob_patent', 'oral', 'parenteral', 'prodrug', 'research_codes',\n",
       "       'rule_of_five', 'sc_patent', 'synonyms', 'topical', 'usan_stem',\n",
       "       'usan_stem_definition', 'usan_stem_substem', 'usan_year',\n",
       "       'withdrawn_class', 'withdrawn_country', 'withdrawn_flag',\n",
       "       'withdrawn_reason', 'withdrawn_year', 'atc_code_description'],\n",
       "      dtype='object')"
      ]
     },
     "execution_count": 3,
     "metadata": {},
     "output_type": "execute_result"
    }
   ],
   "source": [
    "drdf.columns"
   ]
  },
  {
   "cell_type": "markdown",
   "id": "130a71af",
   "metadata": {},
   "source": [
    "Get activities and link drugs to targets."
   ]
  },
  {
   "cell_type": "code",
   "execution_count": 4,
   "id": "8ec6ac98",
   "metadata": {},
   "outputs": [],
   "source": [
    "acts = new_client.activity.filter(molecule_chembl_id__in=list(drdf.molecule_chembl_id)).only(['target_chembl_id'])\n",
    "targets_id = [a['target_chembl_id'] for a in acts]"
   ]
  },
  {
   "cell_type": "code",
   "execution_count": 5,
   "id": "8e21b9aa",
   "metadata": {},
   "outputs": [
    {
     "name": "stdout",
     "output_type": "stream",
     "text": [
      "60437\n",
      "2605\n"
     ]
    }
   ],
   "source": [
    "print(len(targets_id))\n",
    "targets_id_unique = list(set(targets_id))\n",
    "print(len(targets_id_unique))"
   ]
  },
  {
   "cell_type": "code",
   "execution_count": null,
   "id": "f8f0a2c8",
   "metadata": {},
   "outputs": [],
   "source": [
    "targs = new_client.target.filter(targets_chembl_id__in=targets_id_unique)\n",
    "tgdf = pd.DataFrame(targs)\n",
    "tgdf.head()\n",
    "tgdf.shape"
   ]
  },
  {
   "cell_type": "markdown",
   "id": "53bf5312",
   "metadata": {},
   "source": [
    "<span style=\"color:red\">I do not get why this dataframe has over 14'000 entries when I filtered them according to a target ID list of length 2600.</span>"
   ]
  },
  {
   "cell_type": "code",
   "execution_count": null,
   "id": "5c893ee7",
   "metadata": {},
   "outputs": [],
   "source": [
    "accessions = []\n",
    "missing = 0\n",
    "for t in targs:\n",
    "    if len(t['target_components']) > 0:\n",
    "        accessions.append(t['target_components'][0]['accession'])\n",
    "    else:\n",
    "        missing += 1"
   ]
  },
  {
   "cell_type": "code",
   "execution_count": null,
   "id": "9b9ba6e1",
   "metadata": {},
   "outputs": [],
   "source": [
    "print(len(accessions))\n",
    "accessions_unique = list(set(accessions))\n",
    "print(len(accessions_unique))"
   ]
  },
  {
   "cell_type": "markdown",
   "id": "2619aff8",
   "metadata": {},
   "source": [
    "<span style=\"color:red\">Why are there duplicates in accession numbers?</span>"
   ]
  },
  {
   "cell_type": "markdown",
   "id": "2f70f397",
   "metadata": {},
   "source": [
    "### Get data from UniProt"
   ]
  },
  {
   "cell_type": "code",
   "execution_count": null,
   "id": "a2c9b7c3",
   "metadata": {},
   "outputs": [],
   "source": [
    "import requests, sys"
   ]
  },
  {
   "cell_type": "code",
   "execution_count": null,
   "id": "747b4f2f",
   "metadata": {},
   "outputs": [],
   "source": [
    "requestURLs = [\"https://www.ebi.ac.uk/proteins/api/proteins/{}\".format(a) for a in accessions[:10]]\n",
    "# TODO: resquest for all accession numbers instead of just the first ones once it works\n",
    "\n",
    "keywords = []\n",
    "\n",
    "for url in requestURLs:\n",
    "    r = requests.get(url, headers={\"Accept\": \"application/xml\"})\n",
    "    if not r.ok:\n",
    "        r.raise_for_status()\n",
    "        sys.exit()\n",
    "    responseBody = r.text\n",
    "    keywords.append(responseBody)\n",
    "\n",
    "print(keywords[0])"
   ]
  },
  {
   "cell_type": "markdown",
   "id": "17ee7f12",
   "metadata": {},
   "source": [
    "<span style=\"color:red\">Not sure what is meant with UniProt keywords.</span>"
   ]
  },
  {
   "cell_type": "code",
   "execution_count": null,
   "id": "373487e5",
   "metadata": {},
   "outputs": [],
   "source": []
  }
 ],
 "metadata": {
  "kernelspec": {
   "display_name": "Python 3 (ipykernel)",
   "language": "python",
   "name": "python3"
  },
  "language_info": {
   "codemirror_mode": {
    "name": "ipython",
    "version": 3
   },
   "file_extension": ".py",
   "mimetype": "text/x-python",
   "name": "python",
   "nbconvert_exporter": "python",
   "pygments_lexer": "ipython3",
   "version": "3.9.7"
  }
 },
 "nbformat": 4,
 "nbformat_minor": 5
}
