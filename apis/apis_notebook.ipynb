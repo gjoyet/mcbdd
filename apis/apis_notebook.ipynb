{
 "cells": [
  {
   "cell_type": "code",
   "execution_count": 30,
   "id": "38a8c123",
   "metadata": {},
   "outputs": [],
   "source": [
    "import numpy as np\n",
    "import pandas as pd\n",
    "from chembl_webresource_client.new_client import new_client"
   ]
  },
  {
   "cell_type": "markdown",
   "id": "a8b26194",
   "metadata": {},
   "source": [
    "### Get data from ChEMBL\n",
    "\n",
    "Filter them directly when requesting them from the server."
   ]
  },
  {
   "cell_type": "code",
   "execution_count": 17,
   "id": "09fd9441",
   "metadata": {},
   "outputs": [
    {
     "data": {
      "text/plain": [
       "2172"
      ]
     },
     "execution_count": 17,
     "metadata": {},
     "output_type": "execute_result"
    }
   ],
   "source": [
    "dr = new_client.drug.filter(first_approval__isnull=False).order_by('first_approval')\n",
    "drdf = pd.DataFrame(dr)\n",
    "drdf.head()\n",
    "len(drdf)"
   ]
  },
  {
   "cell_type": "code",
   "execution_count": 18,
   "id": "d42dbe87",
   "metadata": {},
   "outputs": [
    {
     "name": "stdout",
     "output_type": "stream",
     "text": [
      "Index(['applicants', 'atc_classification', 'availability_type',\n",
      "       'biotherapeutic', 'black_box', 'black_box_warning', 'chirality',\n",
      "       'development_phase', 'drug_type', 'first_approval', 'first_in_class',\n",
      "       'helm_notation', 'indication_class', 'molecule_chembl_id',\n",
      "       'molecule_properties', 'molecule_structures', 'molecule_synonyms',\n",
      "       'ob_patent', 'oral', 'parenteral', 'prodrug', 'research_codes',\n",
      "       'rule_of_five', 'sc_patent', 'synonyms', 'topical', 'usan_stem',\n",
      "       'usan_stem_definition', 'usan_stem_substem', 'usan_year',\n",
      "       'withdrawn_class', 'withdrawn_country', 'withdrawn_flag',\n",
      "       'withdrawn_reason', 'withdrawn_year', 'atc_code_description'],\n",
      "      dtype='object')\n",
      "(2172, 36)\n"
     ]
    }
   ],
   "source": [
    "print(drdf.columns)\n",
    "print(drdf.shape)"
   ]
  },
  {
   "cell_type": "code",
   "execution_count": 19,
   "id": "b957a9e6",
   "metadata": {},
   "outputs": [
    {
     "name": "stdout",
     "output_type": "stream",
     "text": [
      "(446, 36)\n"
     ]
    }
   ],
   "source": [
    "drdf2012 = drdf.loc[drdf.first_approval >= 2012.0]\n",
    "print(drdf2012.shape)"
   ]
  },
  {
   "cell_type": "markdown",
   "id": "130a71af",
   "metadata": {},
   "source": [
    "Get activities and link drugs to targets."
   ]
  },
  {
   "cell_type": "code",
   "execution_count": 15,
   "id": "8ec6ac98",
   "metadata": {},
   "outputs": [],
   "source": [
    "acts = new_client.activity.filter(molecule_chembl_id__in=list(drdf.molecule_chembl_id)).only(\n",
    "    ['molecule_chembl_id', 'target_chembl_id'])\n",
    "targets_id = [a['target_chembl_id'] for a in acts]"
   ]
  },
  {
   "cell_type": "code",
   "execution_count": 20,
   "id": "a4f261a4",
   "metadata": {},
   "outputs": [],
   "source": [
    "acdf = pd.DataFrame(acts)"
   ]
  },
  {
   "cell_type": "code",
   "execution_count": 31,
   "id": "a18f8f22",
   "metadata": {},
   "outputs": [
    {
     "data": {
      "text/plain": [
       "55.0"
      ]
     },
     "execution_count": 31,
     "metadata": {},
     "output_type": "execute_result"
    }
   ],
   "source": [
    "counts = np.array(acdf.molecule_chembl_id.value_counts())\n",
    "np.median(counts)"
   ]
  },
  {
   "cell_type": "code",
   "execution_count": 8,
   "id": "8e21b9aa",
   "metadata": {},
   "outputs": [
    {
     "name": "stdout",
     "output_type": "stream",
     "text": [
      "60437\n",
      "2605\n"
     ]
    }
   ],
   "source": [
    "print(len(targets_id))\n",
    "targets_id_unique = list(set(targets_id))\n",
    "print(len(targets_id_unique))"
   ]
  },
  {
   "cell_type": "code",
   "execution_count": 9,
   "id": "f8f0a2c8",
   "metadata": {},
   "outputs": [
    {
     "data": {
      "text/plain": [
       "(14855, 8)"
      ]
     },
     "execution_count": 9,
     "metadata": {},
     "output_type": "execute_result"
    }
   ],
   "source": [
    "targs = new_client.target.filter(targets_chembl_id__in=targets_id_unique)\n",
    "tgdf = pd.DataFrame(targs)\n",
    "tgdf.head()\n",
    "tgdf.shape"
   ]
  },
  {
   "cell_type": "markdown",
   "id": "53bf5312",
   "metadata": {},
   "source": [
    "<span style=\"color:red\">I do not get why this dataframe has over 14'000 entries when I filtered them according to a target ID list of length 2600.</span>"
   ]
  },
  {
   "cell_type": "code",
   "execution_count": 10,
   "id": "5c893ee7",
   "metadata": {},
   "outputs": [],
   "source": [
    "accessions = []\n",
    "missing = 0\n",
    "for t in targs:\n",
    "    if len(t['target_components']) > 0:\n",
    "        accessions.append(t['target_components'][0]['accession'])\n",
    "    else:\n",
    "        missing += 1"
   ]
  },
  {
   "cell_type": "code",
   "execution_count": 11,
   "id": "9b9ba6e1",
   "metadata": {},
   "outputs": [
    {
     "name": "stdout",
     "output_type": "stream",
     "text": [
      "10269\n",
      "8951\n"
     ]
    }
   ],
   "source": [
    "print(len(accessions))\n",
    "accessions_unique = list(set(accessions))\n",
    "print(len(accessions_unique))"
   ]
  },
  {
   "cell_type": "markdown",
   "id": "2619aff8",
   "metadata": {},
   "source": [
    "<span style=\"color:red\">Why are there duplicates in accession numbers?</span>"
   ]
  },
  {
   "cell_type": "markdown",
   "id": "2f70f397",
   "metadata": {},
   "source": [
    "### Get data from UniProt"
   ]
  },
  {
   "cell_type": "code",
   "execution_count": 12,
   "id": "a2c9b7c3",
   "metadata": {},
   "outputs": [],
   "source": [
    "import requests, sys"
   ]
  },
  {
   "cell_type": "code",
   "execution_count": 76,
   "id": "747b4f2f",
   "metadata": {},
   "outputs": [
    {
     "name": "stdout",
     "output_type": "stream",
     "text": [
      "Q99P97 has no keywords associated\n",
      "O30412 has no keywords associated\n",
      "Q3HTL5 has no keywords associated\n",
      "Q5PY51 has no keywords associated\n",
      "Q56D22 has no keywords associated\n",
      "Q50H31 has no keywords associated\n",
      "Q83TT7 has no keywords associated\n",
      "B0M1D1 has no keywords associated\n",
      "Q39829 has no keywords associated\n",
      "Q9ZHK8 has no keywords associated\n",
      "Q93SP7 has no keywords associated\n",
      "O40947 has no keywords associated\n",
      "A9X4R8 has no keywords associated\n",
      "O86157 has no keywords associated\n",
      "Q15950 has no keywords associated\n",
      "Q3B792 has no keywords associated\n",
      "Q95US7 has no keywords associated\n",
      "Q962H3 has no keywords associated\n",
      "B5U2Z5 has no keywords associated\n",
      "C1KUY1 has no keywords associated\n",
      "C1KUY2 has no keywords associated\n",
      "C1KUY3 has no keywords associated\n",
      "Q76129 has no keywords associated\n",
      "Q8W433 has no keywords associated\n",
      "A0A072ZLE6 has no keywords associated\n",
      "Q5U9J1 has no keywords associated\n",
      "Q9L4Q3 has no keywords associated\n",
      "Q86MC2 has no keywords associated\n",
      "Q5L478 has no keywords associated\n",
      "Q6DRH7 has no keywords associated\n",
      "Q7M0F8 has no keywords associated\n",
      "Q5FVF5 has no keywords associated\n",
      "Q6TUJ4 has no keywords associated\n",
      "Q9AH50 has no keywords associated\n",
      "Q2L8D9 has no keywords associated\n",
      "Q8VSR5 has no keywords associated\n",
      "A0A024AXB9 has no keywords associated\n"
     ]
    }
   ],
   "source": [
    "requestURLs = [\"https://www.ebi.ac.uk/proteins/api/proteins/{}\".format(a) for a in accessions if a != None]\n",
    "# TODO: resquest for all accession numbers instead of just the first ones once it works\n",
    "\n",
    "keywords = []\n",
    "\n",
    "for url in requestURLs:\n",
    "    r = requests.get(url, headers={\"Accept\": \"application/json\"})\n",
    "    if not r.ok:\n",
    "        continue\n",
    "    responseBody = r.json()\n",
    "    a = responseBody['accession']\n",
    "    try:\n",
    "        k = [w['value'] for w in responseBody['keywords']]\n",
    "    except KeyError:\n",
    "        print('{} has no keywords associated'.format(a))\n",
    "        k = ['']\n",
    "\n",
    "    keywords.append([a, k])"
   ]
  },
  {
   "cell_type": "code",
   "execution_count": 80,
   "id": "373487e5",
   "metadata": {},
   "outputs": [
    {
     "data": {
      "text/html": [
       "<div>\n",
       "<style scoped>\n",
       "    .dataframe tbody tr th:only-of-type {\n",
       "        vertical-align: middle;\n",
       "    }\n",
       "\n",
       "    .dataframe tbody tr th {\n",
       "        vertical-align: top;\n",
       "    }\n",
       "\n",
       "    .dataframe thead th {\n",
       "        text-align: right;\n",
       "    }\n",
       "</style>\n",
       "<table border=\"1\" class=\"dataframe\">\n",
       "  <thead>\n",
       "    <tr style=\"text-align: right;\">\n",
       "      <th></th>\n",
       "      <th>accession</th>\n",
       "      <th>keywords</th>\n",
       "    </tr>\n",
       "  </thead>\n",
       "  <tbody>\n",
       "    <tr>\n",
       "      <th>0</th>\n",
       "      <td>O43451</td>\n",
       "      <td>[3D-structure, Alternative splicing, Cell memb...</td>\n",
       "    </tr>\n",
       "    <tr>\n",
       "      <th>1</th>\n",
       "      <td>O60706</td>\n",
       "      <td>[Alternative splicing, ATP-binding, Atrial fib...</td>\n",
       "    </tr>\n",
       "    <tr>\n",
       "      <th>2</th>\n",
       "      <td>O76074</td>\n",
       "      <td>[3D-structure, Allosteric enzyme, Alternative ...</td>\n",
       "    </tr>\n",
       "    <tr>\n",
       "      <th>3</th>\n",
       "      <td>O95180</td>\n",
       "      <td>[Alternative splicing, Calcium, Calcium channe...</td>\n",
       "    </tr>\n",
       "    <tr>\n",
       "      <th>4</th>\n",
       "      <td>O96760</td>\n",
       "      <td>[Cell junction, Cell membrane, Disulfide bond,...</td>\n",
       "    </tr>\n",
       "  </tbody>\n",
       "</table>\n",
       "</div>"
      ],
      "text/plain": [
       "  accession                                           keywords\n",
       "0    O43451  [3D-structure, Alternative splicing, Cell memb...\n",
       "1    O60706  [Alternative splicing, ATP-binding, Atrial fib...\n",
       "2    O76074  [3D-structure, Allosteric enzyme, Alternative ...\n",
       "3    O95180  [Alternative splicing, Calcium, Calcium channe...\n",
       "4    O96760  [Cell junction, Cell membrane, Disulfide bond,..."
      ]
     },
     "metadata": {},
     "output_type": "display_data"
    },
    {
     "data": {
      "text/plain": [
       "(10225, 2)"
      ]
     },
     "execution_count": 80,
     "metadata": {},
     "output_type": "execute_result"
    }
   ],
   "source": [
    "kwdf = pd.DataFrame(data=keywords, columns=['accession', 'keywords'])\n",
    "display(kwdf.head())\n",
    "kwdf.shape"
   ]
  },
  {
   "cell_type": "markdown",
   "id": "17ee7f12",
   "metadata": {},
   "source": [
    "<span style=\"color:red\">Again, why does the shape not correspond to the length of accession numbers I found...?</span>"
   ]
  },
  {
   "cell_type": "code",
   "execution_count": 87,
   "id": "4f3523a8",
   "metadata": {},
   "outputs": [
    {
     "data": {
      "text/html": [
       "<div>\n",
       "<style scoped>\n",
       "    .dataframe tbody tr th:only-of-type {\n",
       "        vertical-align: middle;\n",
       "    }\n",
       "\n",
       "    .dataframe tbody tr th {\n",
       "        vertical-align: top;\n",
       "    }\n",
       "\n",
       "    .dataframe thead th {\n",
       "        text-align: right;\n",
       "    }\n",
       "</style>\n",
       "<table border=\"1\" class=\"dataframe\">\n",
       "  <thead>\n",
       "    <tr style=\"text-align: right;\">\n",
       "      <th></th>\n",
       "      <th>accession</th>\n",
       "      <th>keyword</th>\n",
       "    </tr>\n",
       "  </thead>\n",
       "  <tbody>\n",
       "    <tr>\n",
       "      <th>0</th>\n",
       "      <td>O43451</td>\n",
       "      <td>3D-structure</td>\n",
       "    </tr>\n",
       "    <tr>\n",
       "      <th>1</th>\n",
       "      <td>O43451</td>\n",
       "      <td>Alternative splicing</td>\n",
       "    </tr>\n",
       "    <tr>\n",
       "      <th>2</th>\n",
       "      <td>O43451</td>\n",
       "      <td>Cell membrane</td>\n",
       "    </tr>\n",
       "    <tr>\n",
       "      <th>3</th>\n",
       "      <td>O43451</td>\n",
       "      <td>Direct protein sequencing</td>\n",
       "    </tr>\n",
       "    <tr>\n",
       "      <th>4</th>\n",
       "      <td>O43451</td>\n",
       "      <td>Disulfide bond</td>\n",
       "    </tr>\n",
       "    <tr>\n",
       "      <th>...</th>\n",
       "      <td>...</td>\n",
       "      <td>...</td>\n",
       "    </tr>\n",
       "    <tr>\n",
       "      <th>133848</th>\n",
       "      <td>O60669</td>\n",
       "      <td>Reference proteome</td>\n",
       "    </tr>\n",
       "    <tr>\n",
       "      <th>133849</th>\n",
       "      <td>O60669</td>\n",
       "      <td>Symport</td>\n",
       "    </tr>\n",
       "    <tr>\n",
       "      <th>133850</th>\n",
       "      <td>O60669</td>\n",
       "      <td>Transmembrane</td>\n",
       "    </tr>\n",
       "    <tr>\n",
       "      <th>133851</th>\n",
       "      <td>O60669</td>\n",
       "      <td>Transmembrane helix</td>\n",
       "    </tr>\n",
       "    <tr>\n",
       "      <th>133852</th>\n",
       "      <td>O60669</td>\n",
       "      <td>Transport</td>\n",
       "    </tr>\n",
       "  </tbody>\n",
       "</table>\n",
       "<p>133853 rows × 2 columns</p>\n",
       "</div>"
      ],
      "text/plain": [
       "       accession                    keyword\n",
       "0         O43451               3D-structure\n",
       "1         O43451       Alternative splicing\n",
       "2         O43451              Cell membrane\n",
       "3         O43451  Direct protein sequencing\n",
       "4         O43451             Disulfide bond\n",
       "...          ...                        ...\n",
       "133848    O60669         Reference proteome\n",
       "133849    O60669                    Symport\n",
       "133850    O60669              Transmembrane\n",
       "133851    O60669        Transmembrane helix\n",
       "133852    O60669                  Transport\n",
       "\n",
       "[133853 rows x 2 columns]"
      ]
     },
     "execution_count": 87,
     "metadata": {},
     "output_type": "execute_result"
    }
   ],
   "source": [
    "kwdf_tidy = pd.DataFrame([\n",
    "    [a, k]\n",
    "    for a, k_, in kwdf.values\n",
    "    for k in k_\n",
    "], columns=['accession', 'keyword'])\n",
    "kwdf_tidy"
   ]
  },
  {
   "cell_type": "code",
   "execution_count": 88,
   "id": "9e9a7345",
   "metadata": {},
   "outputs": [
    {
     "data": {
      "text/plain": [
       "Reference proteome                                           9022\n",
       "3D-structure                                                 5423\n",
       "Membrane                                                     4974\n",
       "Phosphoprotein                                               4860\n",
       "Alternative splicing                                         3725\n",
       "                                                             ... \n",
       "Inhibition of host proteasome antigen processing by virus       1\n",
       "Inhibition of host adaptive immune response by virus            1\n",
       "Inhibition of host IRF7 by virus                                1\n",
       "G0/G1 host cell cycle checkpoint dysregulation by virus         1\n",
       "Organic radical                                                 1\n",
       "Name: keyword, Length: 894, dtype: int64"
      ]
     },
     "execution_count": 88,
     "metadata": {},
     "output_type": "execute_result"
    }
   ],
   "source": [
    "kwdf_tidy.keyword.value_counts()"
   ]
  }
 ],
 "metadata": {
  "kernelspec": {
   "display_name": "Python 3 (ipykernel)",
   "language": "python",
   "name": "python3"
  },
  "language_info": {
   "codemirror_mode": {
    "name": "ipython",
    "version": 3
   },
   "file_extension": ".py",
   "mimetype": "text/x-python",
   "name": "python",
   "nbconvert_exporter": "python",
   "pygments_lexer": "ipython3",
   "version": "3.9.7"
  }
 },
 "nbformat": 4,
 "nbformat_minor": 5
}
